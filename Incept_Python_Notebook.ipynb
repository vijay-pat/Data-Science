{
 "cells": [
  {
   "cell_type": "markdown",
   "metadata": {},
   "source": [
    "# The questions for the exercises are given above the cells and the expected output is given below the cell. Please type the code inserting a new cell below the question because if you run the expected output cell the output would vanish! Happy learning!"
   ]
  },
  {
   "cell_type": "markdown",
   "metadata": {},
   "source": [
    "# Exercise Question 1: Given an input list removes the element at index 4 and add it to the 2nd position and also, at the end of the list"
   ]
  },
  {
   "cell_type": "code",
   "execution_count": 9,
   "metadata": {},
   "outputs": [
    {
     "name": "stdout",
     "output_type": "stream",
     "text": [
      "[34, 54, 67, 89, 11, 43, 94]\n",
      "[34, 54, 67, 89, 43, 94]\n",
      "[34, 54, 11, 67, 89, 43, 94]\n",
      "[34, 54, 11, 67, 89, 43, 94, 11]\n"
     ]
    }
   ],
   "source": [
    "# List created \n",
    "\n",
    "list1=[34,54,67,89,11,43,94]\n",
    "\n",
    "print(list1)\n",
    "\n",
    "# Remove the 4 index value\n",
    "\n",
    "list1.pop(4)\n",
    "\n",
    "print(list1)\n",
    "\n",
    "# Add the value to the second position\n",
    "\n",
    "list1.insert(2,11)\n",
    "\n",
    "print(list1)\n",
    "\n",
    "# Add value end of the list\n",
    "\n",
    "list1.append(11)\n",
    "\n",
    "print(list1)\n"
   ]
  },
  {
   "cell_type": "markdown",
   "metadata": {},
   "source": [
    "# Exercise Question 2: Given a Python list you should be able to display Python list in the following order\n"
   ]
  },
  {
   "cell_type": "code",
   "execution_count": 13,
   "metadata": {},
   "outputs": [
    {
     "name": "stdout",
     "output_type": "stream",
     "text": [
      "[100, 200, 300, 400, 500]\n",
      "[500, 400, 300, 200, 100]\n"
     ]
    }
   ],
   "source": [
    "# created a list\n",
    "\n",
    "list1=[100,200,300,400,500]\n",
    "\n",
    "print(list1)\n",
    "\n",
    "# print list in reverse order\n",
    "list1.reverse()\n",
    "\n",
    "print(list1)"
   ]
  },
  {
   "cell_type": "markdown",
   "metadata": {},
   "source": [
    "# Concatenate (join) two lists in the following order"
   ]
  },
  {
   "cell_type": "code",
   "execution_count": 18,
   "metadata": {},
   "outputs": [
    {
     "name": "stdout",
     "output_type": "stream",
     "text": [
      "['Hello', 'take']\n",
      "['Dear', 'Sir']\n",
      "['Hello', 'take', 'Dear', 'Sir']\n"
     ]
    }
   ],
   "source": [
    "# created a list\n",
    "\n",
    "list1=['Hello','take']\n",
    "\n",
    "print(list1)\n",
    "\n",
    "# created second list\n",
    "\n",
    "list2=['Dear','Sir']\n",
    "\n",
    "print(list2)\n",
    "\n",
    "# concatenate the list\n",
    "list1.extend(list2)\n",
    "\n",
    "print(list1)"
   ]
  },
  {
   "cell_type": "markdown",
   "metadata": {},
   "source": [
    "# Exercise Question 4: Add item 7000 after 6000 in the following Python List"
   ]
  },
  {
   "cell_type": "code",
   "execution_count": 20,
   "metadata": {},
   "outputs": [
    {
     "name": "stdout",
     "output_type": "stream",
     "text": [
      "[10, 20, [300, 400, [5000, 6000], 500], 30, 40]\n",
      "[10, 20, [300, 400, [5000, 6000, 7000], 500], 30, 40]\n"
     ]
    }
   ],
   "source": [
    "# created a list \n",
    "\n",
    "list1=[10,20,[300,400,[5000,6000],500],30,40]\n",
    "\n",
    "print(list1)\n",
    "\n",
    "# add the value 7000 next to 6000\n",
    "\n",
    "list1[2][2].append(7000)\n",
    "\n",
    "print(list1)"
   ]
  },
  {
   "cell_type": "markdown",
   "metadata": {},
   "source": [
    "# Exercise Question 5: Given a nested list extend it with adding sub list\n"
   ]
  },
  {
   "cell_type": "code",
   "execution_count": 30,
   "metadata": {},
   "outputs": [
    {
     "name": "stdout",
     "output_type": "stream",
     "text": [
      "['a', 'b', ['c', ['d', 'e', ['f', 'g'], 'k'], 'l'], 'm', 'n']\n",
      "['a', 'b', ['c', ['d', 'e', ['f', 'g', 'h', 'i', 'j'], 'k'], 'l'], 'm', 'n']\n"
     ]
    }
   ],
   "source": [
    "# created the list\n",
    "\n",
    "list1=['a','b',['c',['d','e',['f','g'],'k'],'l'],'m','n']\n",
    "\n",
    "print(list1)\n",
    "\n",
    "list2=['h','i','j']\n",
    "\n",
    "# adding sub list\n",
    "list1[2][1][2].extend(list2)\n",
    "\n",
    "print(list1)"
   ]
  },
  {
   "cell_type": "markdown",
   "metadata": {},
   "source": [
    "# Exercise Question 6: Given a Python list, find value 20 in the list, and if it is present, replace it with 200. Only update the first occurrence of a value"
   ]
  },
  {
   "cell_type": "code",
   "execution_count": 46,
   "metadata": {},
   "outputs": [
    {
     "name": "stdout",
     "output_type": "stream",
     "text": [
      "[5, 10, 15, 20, 25, 50, 20]\n",
      "3\n",
      "[5, 10, 15, 200, 25, 50, 20]\n"
     ]
    }
   ],
   "source": [
    "# created a list\n",
    "\n",
    "list1=[5,10,15,20,25,50,20]\n",
    "\n",
    "print(list1)\n",
    "\n",
    "list2=list1.index(20)\n",
    "\n",
    "print(list2)\n",
    "\n",
    "for i in list1:\n",
    "    if i==20:\n",
    "        list1[list2]=200\n",
    "        break\n",
    "        \n",
    "print(list1)"
   ]
  },
  {
   "cell_type": "code",
   "execution_count": null,
   "metadata": {},
   "outputs": [],
   "source": []
  }
 ],
 "metadata": {
  "kernelspec": {
   "display_name": "Python 3",
   "language": "python",
   "name": "python3"
  },
  "language_info": {
   "codemirror_mode": {
    "name": "ipython",
    "version": 3
   },
   "file_extension": ".py",
   "mimetype": "text/x-python",
   "name": "python",
   "nbconvert_exporter": "python",
   "pygments_lexer": "ipython3",
   "version": "3.8.5"
  }
 },
 "nbformat": 4,
 "nbformat_minor": 4
}
